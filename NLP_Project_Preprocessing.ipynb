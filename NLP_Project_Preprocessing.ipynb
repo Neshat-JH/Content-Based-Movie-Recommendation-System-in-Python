{
 "cells": [
  {
   "cell_type": "code",
   "execution_count": 1,
   "metadata": {},
   "outputs": [],
   "source": [
    "import numpy as np \n",
    "import pandas as pd \n",
    "import matplotlib.pyplot as plt\n",
    "import seaborn as sns\n",
    "\n",
    "from sklearn import preprocessing\n",
    "\n",
    "from nltk.tokenize import sent_tokenize, word_tokenize \n",
    "from nltk.tag import pos_tag, pos_tag_sents\n",
    "from nltk.corpus import wordnet\n",
    "from nltk.stem import WordNetLemmatizer \n",
    "\n",
    "import re\n",
    "import string"
   ]
  },
  {
   "cell_type": "markdown",
   "metadata": {},
   "source": [
    "## Loading and Preliminary Data Cleaning and EDA"
   ]
  },
  {
   "cell_type": "code",
   "execution_count": 2,
   "metadata": {},
   "outputs": [
    {
     "name": "stderr",
     "output_type": "stream",
     "text": [
      "C:\\Users\\nesha\\anaconda3\\lib\\site-packages\\IPython\\core\\interactiveshell.py:3146: DtypeWarning: Columns (10) have mixed types.Specify dtype option on import or set low_memory=False.\n",
      "  has_raised = await self.run_ast_nodes(code_ast.body, cell_name,\n"
     ]
    },
    {
     "data": {
      "text/plain": [
       "(45466, 24)"
      ]
     },
     "execution_count": 2,
     "metadata": {},
     "output_type": "execute_result"
    }
   ],
   "source": [
    "path = r'C:\\Users\\nesha\\Desktop\\movies_metadata.csv' # data path\n",
    "data = pd.read_csv(path)\n",
    "    \n",
    "data.shape"
   ]
  },
  {
   "cell_type": "code",
   "execution_count": 3,
   "metadata": {},
   "outputs": [
    {
     "data": {
      "text/html": [
       "<div>\n",
       "<style scoped>\n",
       "    .dataframe tbody tr th:only-of-type {\n",
       "        vertical-align: middle;\n",
       "    }\n",
       "\n",
       "    .dataframe tbody tr th {\n",
       "        vertical-align: top;\n",
       "    }\n",
       "\n",
       "    .dataframe thead th {\n",
       "        text-align: right;\n",
       "    }\n",
       "</style>\n",
       "<table border=\"1\" class=\"dataframe\">\n",
       "  <thead>\n",
       "    <tr style=\"text-align: right;\">\n",
       "      <th></th>\n",
       "      <th>adult</th>\n",
       "      <th>belongs_to_collection</th>\n",
       "      <th>budget</th>\n",
       "      <th>genres</th>\n",
       "      <th>homepage</th>\n",
       "      <th>id</th>\n",
       "      <th>imdb_id</th>\n",
       "      <th>original_language</th>\n",
       "      <th>original_title</th>\n",
       "      <th>overview</th>\n",
       "      <th>...</th>\n",
       "      <th>release_date</th>\n",
       "      <th>revenue</th>\n",
       "      <th>runtime</th>\n",
       "      <th>spoken_languages</th>\n",
       "      <th>status</th>\n",
       "      <th>tagline</th>\n",
       "      <th>title</th>\n",
       "      <th>video</th>\n",
       "      <th>vote_average</th>\n",
       "      <th>vote_count</th>\n",
       "    </tr>\n",
       "  </thead>\n",
       "  <tbody>\n",
       "    <tr>\n",
       "      <th>0</th>\n",
       "      <td>False</td>\n",
       "      <td>{'id': 10194, 'name': 'Toy Story Collection', ...</td>\n",
       "      <td>30000000</td>\n",
       "      <td>[{'id': 16, 'name': 'Animation'}, {'id': 35, '...</td>\n",
       "      <td>http://toystory.disney.com/toy-story</td>\n",
       "      <td>862</td>\n",
       "      <td>tt0114709</td>\n",
       "      <td>en</td>\n",
       "      <td>Toy Story</td>\n",
       "      <td>Led by Woody, Andy's toys live happily in his ...</td>\n",
       "      <td>...</td>\n",
       "      <td>1995-10-30</td>\n",
       "      <td>373554033.0</td>\n",
       "      <td>81.0</td>\n",
       "      <td>[{'iso_639_1': 'en', 'name': 'English'}]</td>\n",
       "      <td>Released</td>\n",
       "      <td>NaN</td>\n",
       "      <td>Toy Story</td>\n",
       "      <td>False</td>\n",
       "      <td>7.7</td>\n",
       "      <td>5415.0</td>\n",
       "    </tr>\n",
       "    <tr>\n",
       "      <th>1</th>\n",
       "      <td>False</td>\n",
       "      <td>NaN</td>\n",
       "      <td>65000000</td>\n",
       "      <td>[{'id': 12, 'name': 'Adventure'}, {'id': 14, '...</td>\n",
       "      <td>NaN</td>\n",
       "      <td>8844</td>\n",
       "      <td>tt0113497</td>\n",
       "      <td>en</td>\n",
       "      <td>Jumanji</td>\n",
       "      <td>When siblings Judy and Peter discover an encha...</td>\n",
       "      <td>...</td>\n",
       "      <td>1995-12-15</td>\n",
       "      <td>262797249.0</td>\n",
       "      <td>104.0</td>\n",
       "      <td>[{'iso_639_1': 'en', 'name': 'English'}, {'iso...</td>\n",
       "      <td>Released</td>\n",
       "      <td>Roll the dice and unleash the excitement!</td>\n",
       "      <td>Jumanji</td>\n",
       "      <td>False</td>\n",
       "      <td>6.9</td>\n",
       "      <td>2413.0</td>\n",
       "    </tr>\n",
       "    <tr>\n",
       "      <th>2</th>\n",
       "      <td>False</td>\n",
       "      <td>{'id': 119050, 'name': 'Grumpy Old Men Collect...</td>\n",
       "      <td>0</td>\n",
       "      <td>[{'id': 10749, 'name': 'Romance'}, {'id': 35, ...</td>\n",
       "      <td>NaN</td>\n",
       "      <td>15602</td>\n",
       "      <td>tt0113228</td>\n",
       "      <td>en</td>\n",
       "      <td>Grumpier Old Men</td>\n",
       "      <td>A family wedding reignites the ancient feud be...</td>\n",
       "      <td>...</td>\n",
       "      <td>1995-12-22</td>\n",
       "      <td>0.0</td>\n",
       "      <td>101.0</td>\n",
       "      <td>[{'iso_639_1': 'en', 'name': 'English'}]</td>\n",
       "      <td>Released</td>\n",
       "      <td>Still Yelling. Still Fighting. Still Ready for...</td>\n",
       "      <td>Grumpier Old Men</td>\n",
       "      <td>False</td>\n",
       "      <td>6.5</td>\n",
       "      <td>92.0</td>\n",
       "    </tr>\n",
       "    <tr>\n",
       "      <th>3</th>\n",
       "      <td>False</td>\n",
       "      <td>NaN</td>\n",
       "      <td>16000000</td>\n",
       "      <td>[{'id': 35, 'name': 'Comedy'}, {'id': 18, 'nam...</td>\n",
       "      <td>NaN</td>\n",
       "      <td>31357</td>\n",
       "      <td>tt0114885</td>\n",
       "      <td>en</td>\n",
       "      <td>Waiting to Exhale</td>\n",
       "      <td>Cheated on, mistreated and stepped on, the wom...</td>\n",
       "      <td>...</td>\n",
       "      <td>1995-12-22</td>\n",
       "      <td>81452156.0</td>\n",
       "      <td>127.0</td>\n",
       "      <td>[{'iso_639_1': 'en', 'name': 'English'}]</td>\n",
       "      <td>Released</td>\n",
       "      <td>Friends are the people who let you be yourself...</td>\n",
       "      <td>Waiting to Exhale</td>\n",
       "      <td>False</td>\n",
       "      <td>6.1</td>\n",
       "      <td>34.0</td>\n",
       "    </tr>\n",
       "    <tr>\n",
       "      <th>4</th>\n",
       "      <td>False</td>\n",
       "      <td>{'id': 96871, 'name': 'Father of the Bride Col...</td>\n",
       "      <td>0</td>\n",
       "      <td>[{'id': 35, 'name': 'Comedy'}]</td>\n",
       "      <td>NaN</td>\n",
       "      <td>11862</td>\n",
       "      <td>tt0113041</td>\n",
       "      <td>en</td>\n",
       "      <td>Father of the Bride Part II</td>\n",
       "      <td>Just when George Banks has recovered from his ...</td>\n",
       "      <td>...</td>\n",
       "      <td>1995-02-10</td>\n",
       "      <td>76578911.0</td>\n",
       "      <td>106.0</td>\n",
       "      <td>[{'iso_639_1': 'en', 'name': 'English'}]</td>\n",
       "      <td>Released</td>\n",
       "      <td>Just When His World Is Back To Normal... He's ...</td>\n",
       "      <td>Father of the Bride Part II</td>\n",
       "      <td>False</td>\n",
       "      <td>5.7</td>\n",
       "      <td>173.0</td>\n",
       "    </tr>\n",
       "  </tbody>\n",
       "</table>\n",
       "<p>5 rows × 24 columns</p>\n",
       "</div>"
      ],
      "text/plain": [
       "   adult                              belongs_to_collection    budget  \\\n",
       "0  False  {'id': 10194, 'name': 'Toy Story Collection', ...  30000000   \n",
       "1  False                                                NaN  65000000   \n",
       "2  False  {'id': 119050, 'name': 'Grumpy Old Men Collect...         0   \n",
       "3  False                                                NaN  16000000   \n",
       "4  False  {'id': 96871, 'name': 'Father of the Bride Col...         0   \n",
       "\n",
       "                                              genres  \\\n",
       "0  [{'id': 16, 'name': 'Animation'}, {'id': 35, '...   \n",
       "1  [{'id': 12, 'name': 'Adventure'}, {'id': 14, '...   \n",
       "2  [{'id': 10749, 'name': 'Romance'}, {'id': 35, ...   \n",
       "3  [{'id': 35, 'name': 'Comedy'}, {'id': 18, 'nam...   \n",
       "4                     [{'id': 35, 'name': 'Comedy'}]   \n",
       "\n",
       "                               homepage     id    imdb_id original_language  \\\n",
       "0  http://toystory.disney.com/toy-story    862  tt0114709                en   \n",
       "1                                   NaN   8844  tt0113497                en   \n",
       "2                                   NaN  15602  tt0113228                en   \n",
       "3                                   NaN  31357  tt0114885                en   \n",
       "4                                   NaN  11862  tt0113041                en   \n",
       "\n",
       "                original_title  \\\n",
       "0                    Toy Story   \n",
       "1                      Jumanji   \n",
       "2             Grumpier Old Men   \n",
       "3            Waiting to Exhale   \n",
       "4  Father of the Bride Part II   \n",
       "\n",
       "                                            overview  ... release_date  \\\n",
       "0  Led by Woody, Andy's toys live happily in his ...  ...   1995-10-30   \n",
       "1  When siblings Judy and Peter discover an encha...  ...   1995-12-15   \n",
       "2  A family wedding reignites the ancient feud be...  ...   1995-12-22   \n",
       "3  Cheated on, mistreated and stepped on, the wom...  ...   1995-12-22   \n",
       "4  Just when George Banks has recovered from his ...  ...   1995-02-10   \n",
       "\n",
       "       revenue runtime                                   spoken_languages  \\\n",
       "0  373554033.0    81.0           [{'iso_639_1': 'en', 'name': 'English'}]   \n",
       "1  262797249.0   104.0  [{'iso_639_1': 'en', 'name': 'English'}, {'iso...   \n",
       "2          0.0   101.0           [{'iso_639_1': 'en', 'name': 'English'}]   \n",
       "3   81452156.0   127.0           [{'iso_639_1': 'en', 'name': 'English'}]   \n",
       "4   76578911.0   106.0           [{'iso_639_1': 'en', 'name': 'English'}]   \n",
       "\n",
       "     status                                            tagline  \\\n",
       "0  Released                                                NaN   \n",
       "1  Released          Roll the dice and unleash the excitement!   \n",
       "2  Released  Still Yelling. Still Fighting. Still Ready for...   \n",
       "3  Released  Friends are the people who let you be yourself...   \n",
       "4  Released  Just When His World Is Back To Normal... He's ...   \n",
       "\n",
       "                         title  video vote_average vote_count  \n",
       "0                    Toy Story  False          7.7     5415.0  \n",
       "1                      Jumanji  False          6.9     2413.0  \n",
       "2             Grumpier Old Men  False          6.5       92.0  \n",
       "3            Waiting to Exhale  False          6.1       34.0  \n",
       "4  Father of the Bride Part II  False          5.7      173.0  \n",
       "\n",
       "[5 rows x 24 columns]"
      ]
     },
     "execution_count": 3,
     "metadata": {},
     "output_type": "execute_result"
    }
   ],
   "source": [
    "data.head()"
   ]
  },
  {
   "cell_type": "code",
   "execution_count": 4,
   "metadata": {},
   "outputs": [
    {
     "data": {
      "text/plain": [
       "Index(['adult', 'belongs_to_collection', 'budget', 'genres', 'homepage', 'id',\n",
       "       'imdb_id', 'original_language', 'original_title', 'overview',\n",
       "       'popularity', 'poster_path', 'production_companies',\n",
       "       'production_countries', 'release_date', 'revenue', 'runtime',\n",
       "       'spoken_languages', 'status', 'tagline', 'title', 'video',\n",
       "       'vote_average', 'vote_count'],\n",
       "      dtype='object')"
      ]
     },
     "execution_count": 4,
     "metadata": {},
     "output_type": "execute_result"
    }
   ],
   "source": [
    "data.columns"
   ]
  },
  {
   "cell_type": "markdown",
   "metadata": {},
   "source": [
    "The main column of interest for this project is \"overview\". Let's take a look at some samples to get an idea of the formatting of the plots!"
   ]
  },
  {
   "cell_type": "code",
   "execution_count": 5,
   "metadata": {},
   "outputs": [
    {
     "data": {
      "text/plain": [
       "\"Led by Woody, Andy's toys live happily in his room until Andy's birthday brings Buzz Lightyear onto the scene. Afraid of losing his place in Andy's heart, Woody plots against Buzz. But when circumstances separate Buzz and Woody from their owner, the duo eventually learns to put aside their differences.\""
      ]
     },
     "execution_count": 5,
     "metadata": {},
     "output_type": "execute_result"
    }
   ],
   "source": [
    "data.overview[0]"
   ]
  },
  {
   "cell_type": "code",
   "execution_count": 6,
   "metadata": {},
   "outputs": [
    {
     "data": {
      "text/plain": [
       "\"When siblings Judy and Peter discover an enchanted board game that opens the door to a magical world, they unwittingly invite Alan -- an adult who's been trapped inside the game for 26 years -- into their living room. Alan's only hope for freedom is to finish the game, which proves risky as all three find themselves running from giant rhinoceroses, evil monkeys and other terrifying creatures.\""
      ]
     },
     "execution_count": 6,
     "metadata": {},
     "output_type": "execute_result"
    }
   ],
   "source": [
    "data.overview[1]"
   ]
  },
  {
   "cell_type": "code",
   "execution_count": 7,
   "metadata": {},
   "outputs": [
    {
     "data": {
      "text/plain": [
       "'Obsessive master thief, Neil McCauley leads a top-notch crew on various insane heists throughout Los Angeles while a mentally unstable detective, Vincent Hanna pursues him without rest. Each man recognizes and respects the ability and the dedication of the other even though they are aware their cat-and-mouse game may end in violence.'"
      ]
     },
     "execution_count": 7,
     "metadata": {},
     "output_type": "execute_result"
    }
   ],
   "source": [
    "data.overview[5]"
   ]
  },
  {
   "cell_type": "code",
   "execution_count": 8,
   "metadata": {},
   "outputs": [
    {
     "name": "stdout",
     "output_type": "stream",
     "text": [
      "Min Overview Words 0.0\n",
      "Max Overview Words 187.0\n",
      "Average Overview Words 55.0\n",
      "Overview Words Standard Deviation 35.0\n"
     ]
    }
   ],
   "source": [
    "#looking into overview length statistics\n",
    "\n",
    "print(\"Min Overview Words\", data.overview.str.split().str.len().min())\n",
    "print(\"Max Overview Words\", data.overview.str.split().str.len().max())\n",
    "print(\"Average Overview Words\", round(data.overview.str.split().str.len().mean(),0))\n",
    "print(\"Overview Words Standard Deviation\", round(data.overview.str.split().str.len().std(),0))"
   ]
  },
  {
   "cell_type": "code",
   "execution_count": 9,
   "metadata": {
    "scrolled": true
   },
   "outputs": [
    {
     "data": {
      "text/html": [
       "<div>\n",
       "<style scoped>\n",
       "    .dataframe tbody tr th:only-of-type {\n",
       "        vertical-align: middle;\n",
       "    }\n",
       "\n",
       "    .dataframe tbody tr th {\n",
       "        vertical-align: top;\n",
       "    }\n",
       "\n",
       "    .dataframe thead th {\n",
       "        text-align: right;\n",
       "    }\n",
       "</style>\n",
       "<table border=\"1\" class=\"dataframe\">\n",
       "  <thead>\n",
       "    <tr style=\"text-align: right;\">\n",
       "      <th></th>\n",
       "      <th>adult</th>\n",
       "      <th>belongs_to_collection</th>\n",
       "      <th>budget</th>\n",
       "      <th>genres</th>\n",
       "      <th>homepage</th>\n",
       "      <th>id</th>\n",
       "      <th>imdb_id</th>\n",
       "      <th>original_language</th>\n",
       "      <th>original_title</th>\n",
       "      <th>overview</th>\n",
       "      <th>...</th>\n",
       "      <th>release_date</th>\n",
       "      <th>revenue</th>\n",
       "      <th>runtime</th>\n",
       "      <th>spoken_languages</th>\n",
       "      <th>status</th>\n",
       "      <th>tagline</th>\n",
       "      <th>title</th>\n",
       "      <th>video</th>\n",
       "      <th>vote_average</th>\n",
       "      <th>vote_count</th>\n",
       "    </tr>\n",
       "  </thead>\n",
       "  <tbody>\n",
       "    <tr>\n",
       "      <th>40</th>\n",
       "      <td>False</td>\n",
       "      <td>NaN</td>\n",
       "      <td>0</td>\n",
       "      <td>[{'id': 18, 'name': 'Drama'}, {'id': 10752, 'n...</td>\n",
       "      <td>NaN</td>\n",
       "      <td>31174</td>\n",
       "      <td>tt0114279</td>\n",
       "      <td>en</td>\n",
       "      <td>Richard III</td>\n",
       "      <td>Shakespeare's Play transplanted into a 1930s s...</td>\n",
       "      <td>...</td>\n",
       "      <td>1995-12-29</td>\n",
       "      <td>0.0</td>\n",
       "      <td>104.0</td>\n",
       "      <td>[{'iso_639_1': 'en', 'name': 'English'}]</td>\n",
       "      <td>Released</td>\n",
       "      <td>I can smile, and murder while I smile</td>\n",
       "      <td>Richard III</td>\n",
       "      <td>False</td>\n",
       "      <td>6.9</td>\n",
       "      <td>50.0</td>\n",
       "    </tr>\n",
       "    <tr>\n",
       "      <th>104</th>\n",
       "      <td>False</td>\n",
       "      <td>NaN</td>\n",
       "      <td>0</td>\n",
       "      <td>[{'id': 18, 'name': 'Drama'}, {'id': 35, 'name...</td>\n",
       "      <td>NaN</td>\n",
       "      <td>11907</td>\n",
       "      <td>tt0110251</td>\n",
       "      <td>de</td>\n",
       "      <td>Keiner liebt mich</td>\n",
       "      <td>No overview found.</td>\n",
       "      <td>...</td>\n",
       "      <td>1994-11-07</td>\n",
       "      <td>0.0</td>\n",
       "      <td>104.0</td>\n",
       "      <td>[{'iso_639_1': 'de', 'name': 'Deutsch'}]</td>\n",
       "      <td>Released</td>\n",
       "      <td>NaN</td>\n",
       "      <td>Nobody Loves Me</td>\n",
       "      <td>False</td>\n",
       "      <td>5.1</td>\n",
       "      <td>5.0</td>\n",
       "    </tr>\n",
       "    <tr>\n",
       "      <th>137</th>\n",
       "      <td>False</td>\n",
       "      <td>NaN</td>\n",
       "      <td>0</td>\n",
       "      <td>[]</td>\n",
       "      <td>NaN</td>\n",
       "      <td>124639</td>\n",
       "      <td>tt0114618</td>\n",
       "      <td>en</td>\n",
       "      <td>Target</td>\n",
       "      <td>A subtle yet violent commentary on feudal lords.</td>\n",
       "      <td>...</td>\n",
       "      <td>1995-08-01</td>\n",
       "      <td>0.0</td>\n",
       "      <td>122.0</td>\n",
       "      <td>[]</td>\n",
       "      <td>Released</td>\n",
       "      <td>NaN</td>\n",
       "      <td>Target</td>\n",
       "      <td>False</td>\n",
       "      <td>0.0</td>\n",
       "      <td>0.0</td>\n",
       "    </tr>\n",
       "    <tr>\n",
       "      <th>553</th>\n",
       "      <td>False</td>\n",
       "      <td>NaN</td>\n",
       "      <td>0</td>\n",
       "      <td>[{'id': 18, 'name': 'Drama'}, {'id': 35, 'name...</td>\n",
       "      <td>NaN</td>\n",
       "      <td>161158</td>\n",
       "      <td>tt0107779</td>\n",
       "      <td>en</td>\n",
       "      <td>Paris, France</td>\n",
       "      <td>A writer has torrid fantasy affairs with young...</td>\n",
       "      <td>...</td>\n",
       "      <td>1994-02-04</td>\n",
       "      <td>0.0</td>\n",
       "      <td>112.0</td>\n",
       "      <td>[{'iso_639_1': 'en', 'name': 'English'}]</td>\n",
       "      <td>Released</td>\n",
       "      <td>NaN</td>\n",
       "      <td>Paris, France</td>\n",
       "      <td>False</td>\n",
       "      <td>6.0</td>\n",
       "      <td>2.0</td>\n",
       "    </tr>\n",
       "    <tr>\n",
       "      <th>566</th>\n",
       "      <td>False</td>\n",
       "      <td>NaN</td>\n",
       "      <td>0</td>\n",
       "      <td>[{'id': 18, 'name': 'Drama'}, {'id': 10749, 'n...</td>\n",
       "      <td>NaN</td>\n",
       "      <td>95743</td>\n",
       "      <td>tt0109828</td>\n",
       "      <td>en</td>\n",
       "      <td>Foreign Student</td>\n",
       "      <td>A French football playing exchange student fal...</td>\n",
       "      <td>...</td>\n",
       "      <td>1994-07-29</td>\n",
       "      <td>0.0</td>\n",
       "      <td>90.0</td>\n",
       "      <td>[{'iso_639_1': 'en', 'name': 'English'}]</td>\n",
       "      <td>Released</td>\n",
       "      <td>NaN</td>\n",
       "      <td>Foreign Student</td>\n",
       "      <td>False</td>\n",
       "      <td>0.0</td>\n",
       "      <td>0.0</td>\n",
       "    </tr>\n",
       "    <tr>\n",
       "      <th>...</th>\n",
       "      <td>...</td>\n",
       "      <td>...</td>\n",
       "      <td>...</td>\n",
       "      <td>...</td>\n",
       "      <td>...</td>\n",
       "      <td>...</td>\n",
       "      <td>...</td>\n",
       "      <td>...</td>\n",
       "      <td>...</td>\n",
       "      <td>...</td>\n",
       "      <td>...</td>\n",
       "      <td>...</td>\n",
       "      <td>...</td>\n",
       "      <td>...</td>\n",
       "      <td>...</td>\n",
       "      <td>...</td>\n",
       "      <td>...</td>\n",
       "      <td>...</td>\n",
       "      <td>...</td>\n",
       "      <td>...</td>\n",
       "      <td>...</td>\n",
       "    </tr>\n",
       "    <tr>\n",
       "      <th>45430</th>\n",
       "      <td>False</td>\n",
       "      <td>NaN</td>\n",
       "      <td>0</td>\n",
       "      <td>[{'id': 53, 'name': 'Thriller'}, {'id': 878, '...</td>\n",
       "      <td>NaN</td>\n",
       "      <td>222872</td>\n",
       "      <td>tt0120200</td>\n",
       "      <td>en</td>\n",
       "      <td>Starquest II</td>\n",
       "      <td>Sci-fi thriller directed by Fred Gallo.</td>\n",
       "      <td>...</td>\n",
       "      <td>1996-01-01</td>\n",
       "      <td>0.0</td>\n",
       "      <td>0.0</td>\n",
       "      <td>[]</td>\n",
       "      <td>Released</td>\n",
       "      <td>NaN</td>\n",
       "      <td>Starquest II</td>\n",
       "      <td>False</td>\n",
       "      <td>2.0</td>\n",
       "      <td>1.0</td>\n",
       "    </tr>\n",
       "    <tr>\n",
       "      <th>45433</th>\n",
       "      <td>False</td>\n",
       "      <td>NaN</td>\n",
       "      <td>0</td>\n",
       "      <td>[{'id': 10402, 'name': 'Music'}, {'id': 35, 'n...</td>\n",
       "      <td>NaN</td>\n",
       "      <td>5589</td>\n",
       "      <td>tt0232750</td>\n",
       "      <td>cs</td>\n",
       "      <td>Šíleně smutná princezna</td>\n",
       "      <td>No overview found.</td>\n",
       "      <td>...</td>\n",
       "      <td>1968-06-07</td>\n",
       "      <td>0.0</td>\n",
       "      <td>73.0</td>\n",
       "      <td>[{'iso_639_1': 'cs', 'name': 'Český'}]</td>\n",
       "      <td>Released</td>\n",
       "      <td>NaN</td>\n",
       "      <td>Šíleně smutná princezna</td>\n",
       "      <td>False</td>\n",
       "      <td>6.1</td>\n",
       "      <td>4.0</td>\n",
       "    </tr>\n",
       "    <tr>\n",
       "      <th>45445</th>\n",
       "      <td>False</td>\n",
       "      <td>NaN</td>\n",
       "      <td>0</td>\n",
       "      <td>[{'id': 14, 'name': 'Fantasy'}, {'id': 35, 'na...</td>\n",
       "      <td>NaN</td>\n",
       "      <td>49277</td>\n",
       "      <td>tt0135122</td>\n",
       "      <td>en</td>\n",
       "      <td>Les affiches en goguette</td>\n",
       "      <td>A wall full of advertising posters comes to life.</td>\n",
       "      <td>...</td>\n",
       "      <td>1906-01-01</td>\n",
       "      <td>0.0</td>\n",
       "      <td>3.0</td>\n",
       "      <td>[{'iso_639_1': 'fr', 'name': 'Français'}, {'is...</td>\n",
       "      <td>Released</td>\n",
       "      <td>NaN</td>\n",
       "      <td>The Hilarious Posters</td>\n",
       "      <td>False</td>\n",
       "      <td>4.5</td>\n",
       "      <td>2.0</td>\n",
       "    </tr>\n",
       "    <tr>\n",
       "      <th>45451</th>\n",
       "      <td>False</td>\n",
       "      <td>NaN</td>\n",
       "      <td>0</td>\n",
       "      <td>[{'id': 35, 'name': 'Comedy'}, {'id': 14, 'nam...</td>\n",
       "      <td>NaN</td>\n",
       "      <td>106807</td>\n",
       "      <td>tt0135571</td>\n",
       "      <td>fr</td>\n",
       "      <td>Nouvelles luttes extravagantes</td>\n",
       "      <td>A series of fantastical wrestling matches.</td>\n",
       "      <td>...</td>\n",
       "      <td>1900-01-01</td>\n",
       "      <td>0.0</td>\n",
       "      <td>2.0</td>\n",
       "      <td>[{'iso_639_1': 'xx', 'name': 'No Language'}]</td>\n",
       "      <td>Released</td>\n",
       "      <td>NaN</td>\n",
       "      <td>The Fat and Lean Wrestling Match</td>\n",
       "      <td>False</td>\n",
       "      <td>6.5</td>\n",
       "      <td>6.0</td>\n",
       "    </tr>\n",
       "    <tr>\n",
       "      <th>45461</th>\n",
       "      <td>False</td>\n",
       "      <td>NaN</td>\n",
       "      <td>0</td>\n",
       "      <td>[{'id': 18, 'name': 'Drama'}, {'id': 10751, 'n...</td>\n",
       "      <td>http://www.imdb.com/title/tt6209470/</td>\n",
       "      <td>439050</td>\n",
       "      <td>tt6209470</td>\n",
       "      <td>fa</td>\n",
       "      <td>رگ خواب</td>\n",
       "      <td>Rising and falling between a man and woman.</td>\n",
       "      <td>...</td>\n",
       "      <td>NaN</td>\n",
       "      <td>0.0</td>\n",
       "      <td>90.0</td>\n",
       "      <td>[{'iso_639_1': 'fa', 'name': 'فارسی'}]</td>\n",
       "      <td>Released</td>\n",
       "      <td>Rising and falling between a man and woman</td>\n",
       "      <td>Subdue</td>\n",
       "      <td>False</td>\n",
       "      <td>4.0</td>\n",
       "      <td>1.0</td>\n",
       "    </tr>\n",
       "  </tbody>\n",
       "</table>\n",
       "<p>961 rows × 24 columns</p>\n",
       "</div>"
      ],
      "text/plain": [
       "       adult belongs_to_collection budget  \\\n",
       "40     False                   NaN      0   \n",
       "104    False                   NaN      0   \n",
       "137    False                   NaN      0   \n",
       "553    False                   NaN      0   \n",
       "566    False                   NaN      0   \n",
       "...      ...                   ...    ...   \n",
       "45430  False                   NaN      0   \n",
       "45433  False                   NaN      0   \n",
       "45445  False                   NaN      0   \n",
       "45451  False                   NaN      0   \n",
       "45461  False                   NaN      0   \n",
       "\n",
       "                                                  genres  \\\n",
       "40     [{'id': 18, 'name': 'Drama'}, {'id': 10752, 'n...   \n",
       "104    [{'id': 18, 'name': 'Drama'}, {'id': 35, 'name...   \n",
       "137                                                   []   \n",
       "553    [{'id': 18, 'name': 'Drama'}, {'id': 35, 'name...   \n",
       "566    [{'id': 18, 'name': 'Drama'}, {'id': 10749, 'n...   \n",
       "...                                                  ...   \n",
       "45430  [{'id': 53, 'name': 'Thriller'}, {'id': 878, '...   \n",
       "45433  [{'id': 10402, 'name': 'Music'}, {'id': 35, 'n...   \n",
       "45445  [{'id': 14, 'name': 'Fantasy'}, {'id': 35, 'na...   \n",
       "45451  [{'id': 35, 'name': 'Comedy'}, {'id': 14, 'nam...   \n",
       "45461  [{'id': 18, 'name': 'Drama'}, {'id': 10751, 'n...   \n",
       "\n",
       "                                   homepage      id    imdb_id  \\\n",
       "40                                      NaN   31174  tt0114279   \n",
       "104                                     NaN   11907  tt0110251   \n",
       "137                                     NaN  124639  tt0114618   \n",
       "553                                     NaN  161158  tt0107779   \n",
       "566                                     NaN   95743  tt0109828   \n",
       "...                                     ...     ...        ...   \n",
       "45430                                   NaN  222872  tt0120200   \n",
       "45433                                   NaN    5589  tt0232750   \n",
       "45445                                   NaN   49277  tt0135122   \n",
       "45451                                   NaN  106807  tt0135571   \n",
       "45461  http://www.imdb.com/title/tt6209470/  439050  tt6209470   \n",
       "\n",
       "      original_language                  original_title  \\\n",
       "40                   en                     Richard III   \n",
       "104                  de               Keiner liebt mich   \n",
       "137                  en                          Target   \n",
       "553                  en                   Paris, France   \n",
       "566                  en                 Foreign Student   \n",
       "...                 ...                             ...   \n",
       "45430                en                    Starquest II   \n",
       "45433                cs         Šíleně smutná princezna   \n",
       "45445                en        Les affiches en goguette   \n",
       "45451                fr  Nouvelles luttes extravagantes   \n",
       "45461                fa                         رگ خواب   \n",
       "\n",
       "                                                overview  ... release_date  \\\n",
       "40     Shakespeare's Play transplanted into a 1930s s...  ...   1995-12-29   \n",
       "104                                   No overview found.  ...   1994-11-07   \n",
       "137     A subtle yet violent commentary on feudal lords.  ...   1995-08-01   \n",
       "553    A writer has torrid fantasy affairs with young...  ...   1994-02-04   \n",
       "566    A French football playing exchange student fal...  ...   1994-07-29   \n",
       "...                                                  ...  ...          ...   \n",
       "45430            Sci-fi thriller directed by Fred Gallo.  ...   1996-01-01   \n",
       "45433                                 No overview found.  ...   1968-06-07   \n",
       "45445  A wall full of advertising posters comes to life.  ...   1906-01-01   \n",
       "45451         A series of fantastical wrestling matches.  ...   1900-01-01   \n",
       "45461        Rising and falling between a man and woman.  ...          NaN   \n",
       "\n",
       "      revenue runtime                                   spoken_languages  \\\n",
       "40        0.0   104.0           [{'iso_639_1': 'en', 'name': 'English'}]   \n",
       "104       0.0   104.0           [{'iso_639_1': 'de', 'name': 'Deutsch'}]   \n",
       "137       0.0   122.0                                                 []   \n",
       "553       0.0   112.0           [{'iso_639_1': 'en', 'name': 'English'}]   \n",
       "566       0.0    90.0           [{'iso_639_1': 'en', 'name': 'English'}]   \n",
       "...       ...     ...                                                ...   \n",
       "45430     0.0     0.0                                                 []   \n",
       "45433     0.0    73.0             [{'iso_639_1': 'cs', 'name': 'Český'}]   \n",
       "45445     0.0     3.0  [{'iso_639_1': 'fr', 'name': 'Français'}, {'is...   \n",
       "45451     0.0     2.0       [{'iso_639_1': 'xx', 'name': 'No Language'}]   \n",
       "45461     0.0    90.0             [{'iso_639_1': 'fa', 'name': 'فارسی'}]   \n",
       "\n",
       "         status                                     tagline  \\\n",
       "40     Released       I can smile, and murder while I smile   \n",
       "104    Released                                         NaN   \n",
       "137    Released                                         NaN   \n",
       "553    Released                                         NaN   \n",
       "566    Released                                         NaN   \n",
       "...         ...                                         ...   \n",
       "45430  Released                                         NaN   \n",
       "45433  Released                                         NaN   \n",
       "45445  Released                                         NaN   \n",
       "45451  Released                                         NaN   \n",
       "45461  Released  Rising and falling between a man and woman   \n",
       "\n",
       "                                  title  video vote_average vote_count  \n",
       "40                          Richard III  False          6.9       50.0  \n",
       "104                     Nobody Loves Me  False          5.1        5.0  \n",
       "137                              Target  False          0.0        0.0  \n",
       "553                       Paris, France  False          6.0        2.0  \n",
       "566                     Foreign Student  False          0.0        0.0  \n",
       "...                                 ...    ...          ...        ...  \n",
       "45430                      Starquest II  False          2.0        1.0  \n",
       "45433           Šíleně smutná princezna  False          6.1        4.0  \n",
       "45445             The Hilarious Posters  False          4.5        2.0  \n",
       "45451  The Fat and Lean Wrestling Match  False          6.5        6.0  \n",
       "45461                            Subdue  False          4.0        1.0  \n",
       "\n",
       "[961 rows x 24 columns]"
      ]
     },
     "execution_count": 9,
     "metadata": {},
     "output_type": "execute_result"
    }
   ],
   "source": [
    "#looking for number of super short overviews - 10 words or less\n",
    "mask = (data.overview.str.split().str.len() <= 10)\n",
    "data.loc[mask]"
   ]
  },
  {
   "cell_type": "markdown",
   "metadata": {},
   "source": [
    "Seems like most of the information are missing for these movies. Also some have \"No overview found\" as their overview!! Let's consider overviews less than 20 as too short and drop these movies!"
   ]
  },
  {
   "cell_type": "code",
   "execution_count": 10,
   "metadata": {},
   "outputs": [],
   "source": [
    "#dropping overviews with 20 words or fewer \n",
    "data.drop(data[data['overview'].str.split().str.len() <= 20].index, inplace=True)"
   ]
  },
  {
   "cell_type": "code",
   "execution_count": 11,
   "metadata": {},
   "outputs": [
    {
     "data": {
      "text/plain": [
       "(39214, 24)"
      ]
     },
     "execution_count": 11,
     "metadata": {},
     "output_type": "execute_result"
    }
   ],
   "source": [
    "data.shape"
   ]
  },
  {
   "cell_type": "markdown",
   "metadata": {},
   "source": [
    "Let's look into the overview length statistics once more:"
   ]
  },
  {
   "cell_type": "code",
   "execution_count": 12,
   "metadata": {},
   "outputs": [
    {
     "name": "stdout",
     "output_type": "stream",
     "text": [
      "Min Overview Words 21.0\n",
      "Max Overview Words 187.0\n",
      "Average Overview Words 62.0\n",
      "Overview Words Standard Deviation 33.0\n"
     ]
    }
   ],
   "source": [
    "#looking into overview length statistics again!!\n",
    "\n",
    "print(\"Min Overview Words\", data.overview.str.split().str.len().min())\n",
    "print(\"Max Overview Words\", data.overview.str.split().str.len().max())\n",
    "print(\"Average Overview Words\", round(data.overview.str.split().str.len().mean(),0))\n",
    "print(\"Overview Words Standard Deviation\", round(data.overview.str.split().str.len().std(),0))"
   ]
  },
  {
   "cell_type": "code",
   "execution_count": 13,
   "metadata": {},
   "outputs": [
    {
     "data": {
      "text/plain": [
       "adult                     object\n",
       "belongs_to_collection     object\n",
       "budget                    object\n",
       "genres                    object\n",
       "homepage                  object\n",
       "id                        object\n",
       "imdb_id                   object\n",
       "original_language         object\n",
       "original_title            object\n",
       "overview                  object\n",
       "popularity                object\n",
       "poster_path               object\n",
       "production_companies      object\n",
       "production_countries      object\n",
       "release_date              object\n",
       "revenue                  float64\n",
       "runtime                  float64\n",
       "spoken_languages          object\n",
       "status                    object\n",
       "tagline                   object\n",
       "title                     object\n",
       "video                     object\n",
       "vote_average             float64\n",
       "vote_count               float64\n",
       "dtype: object"
      ]
     },
     "execution_count": 13,
     "metadata": {},
     "output_type": "execute_result"
    }
   ],
   "source": [
    "data.dtypes"
   ]
  },
  {
   "cell_type": "code",
   "execution_count": 14,
   "metadata": {},
   "outputs": [
    {
     "data": {
      "text/plain": [
       "adult                        0\n",
       "belongs_to_collection    35135\n",
       "budget                       0\n",
       "genres                       0\n",
       "homepage                 32139\n",
       "id                           0\n",
       "imdb_id                     16\n",
       "original_language            8\n",
       "original_title               0\n",
       "overview                   954\n",
       "popularity                   1\n",
       "poster_path                269\n",
       "production_companies         1\n",
       "production_countries         1\n",
       "release_date                70\n",
       "revenue                      1\n",
       "runtime                    258\n",
       "spoken_languages             1\n",
       "status                      68\n",
       "tagline                  21327\n",
       "title                        1\n",
       "video                        1\n",
       "vote_average                 1\n",
       "vote_count                   1\n",
       "dtype: int64"
      ]
     },
     "execution_count": 14,
     "metadata": {},
     "output_type": "execute_result"
    }
   ],
   "source": [
    "#looking for null values\n",
    "data.isnull().sum()"
   ]
  },
  {
   "cell_type": "markdown",
   "metadata": {},
   "source": [
    "We have 954 null overviews that we need to drop!!"
   ]
  },
  {
   "cell_type": "code",
   "execution_count": 15,
   "metadata": {},
   "outputs": [],
   "source": [
    "#dropping null overviews\n",
    "data.drop(data[data['overview'].isnull()].index, inplace=True)"
   ]
  },
  {
   "cell_type": "code",
   "execution_count": 16,
   "metadata": {},
   "outputs": [
    {
     "data": {
      "text/plain": [
       "(38260, 24)"
      ]
     },
     "execution_count": 16,
     "metadata": {},
     "output_type": "execute_result"
    }
   ],
   "source": [
    "data.shape"
   ]
  },
  {
   "cell_type": "code",
   "execution_count": 17,
   "metadata": {},
   "outputs": [
    {
     "data": {
      "text/plain": [
       "0"
      ]
     },
     "execution_count": 17,
     "metadata": {},
     "output_type": "execute_result"
    }
   ],
   "source": [
    "#looking for null values\n",
    "data.overview.isnull().sum()"
   ]
  },
  {
   "cell_type": "code",
   "execution_count": 18,
   "metadata": {},
   "outputs": [
    {
     "data": {
      "text/plain": [
       "23"
      ]
     },
     "execution_count": 18,
     "metadata": {},
     "output_type": "execute_result"
    }
   ],
   "source": [
    "#looking for duplicates\n",
    "data.duplicated(subset=None, keep=False).sum()"
   ]
  },
  {
   "cell_type": "code",
   "execution_count": 19,
   "metadata": {},
   "outputs": [
    {
     "data": {
      "text/plain": [
       "90"
      ]
     },
     "execution_count": 19,
     "metadata": {},
     "output_type": "execute_result"
    }
   ],
   "source": [
    "#looking for duplicate overviews\n",
    "data.duplicated(subset=['overview'], keep=False).sum()"
   ]
  },
  {
   "cell_type": "code",
   "execution_count": 20,
   "metadata": {},
   "outputs": [
    {
     "data": {
      "text/plain": [
       "adult                        2\n",
       "belongs_to_collection     1619\n",
       "budget                    1117\n",
       "genres                    3801\n",
       "homepage                  6962\n",
       "id                       38233\n",
       "imdb_id                  38219\n",
       "original_language           86\n",
       "original_title           36678\n",
       "overview                 38214\n",
       "popularity               37388\n",
       "poster_path              37988\n",
       "production_companies     19893\n",
       "production_countries      2145\n",
       "release_date             15660\n",
       "revenue                   6248\n",
       "runtime                    339\n",
       "spoken_languages          1798\n",
       "status                       6\n",
       "tagline                  17772\n",
       "title                    35818\n",
       "video                        2\n",
       "vote_average                92\n",
       "vote_count                1773\n",
       "dtype: int64"
      ]
     },
     "execution_count": 20,
     "metadata": {},
     "output_type": "execute_result"
    }
   ],
   "source": [
    "data.nunique(axis=0)"
   ]
  },
  {
   "cell_type": "code",
   "execution_count": 21,
   "metadata": {},
   "outputs": [],
   "source": [
    "#There are more unique overviews than there are titles meaning same movie titles must have different overviews?!\n",
    "#dropping duplicate movies based on their title and runtime\n",
    "data.drop_duplicates(subset=['title', 'runtime'], keep='last', inplace=True)"
   ]
  },
  {
   "cell_type": "code",
   "execution_count": 22,
   "metadata": {},
   "outputs": [
    {
     "data": {
      "text/plain": [
       "38"
      ]
     },
     "execution_count": 22,
     "metadata": {},
     "output_type": "execute_result"
    }
   ],
   "source": [
    "#looking for duplicate overviews once more\n",
    "data.duplicated(subset=['overview'], keep=False).sum()"
   ]
  },
  {
   "cell_type": "code",
   "execution_count": 23,
   "metadata": {},
   "outputs": [
    {
     "data": {
      "text/plain": [
       "(38145, 24)"
      ]
     },
     "execution_count": 23,
     "metadata": {},
     "output_type": "execute_result"
    }
   ],
   "source": [
    "#dropping the rest of overview duplicates\n",
    "data.drop_duplicates(subset=['overview'], keep='last', inplace=True)\n",
    "data.shape"
   ]
  },
  {
   "cell_type": "code",
   "execution_count": 24,
   "metadata": {},
   "outputs": [],
   "source": [
    "#going to keep the title, release_date, and overview\n",
    "data.drop(['adult', 'belongs_to_collection', 'budget', 'genres', 'homepage', 'id',\n",
    "       'imdb_id', 'original_language', 'original_title',\n",
    "       'popularity', 'poster_path', 'production_companies',\n",
    "       'production_countries', 'revenue', 'runtime',\n",
    "       'spoken_languages', 'status', 'tagline', 'video',\n",
    "       'vote_average', 'vote_count'], axis=1, inplace=True)"
   ]
  },
  {
   "cell_type": "code",
   "execution_count": 25,
   "metadata": {},
   "outputs": [
    {
     "data": {
      "text/html": [
       "<div>\n",
       "<style scoped>\n",
       "    .dataframe tbody tr th:only-of-type {\n",
       "        vertical-align: middle;\n",
       "    }\n",
       "\n",
       "    .dataframe tbody tr th {\n",
       "        vertical-align: top;\n",
       "    }\n",
       "\n",
       "    .dataframe thead th {\n",
       "        text-align: right;\n",
       "    }\n",
       "</style>\n",
       "<table border=\"1\" class=\"dataframe\">\n",
       "  <thead>\n",
       "    <tr style=\"text-align: right;\">\n",
       "      <th></th>\n",
       "      <th>overview</th>\n",
       "      <th>release_date</th>\n",
       "      <th>title</th>\n",
       "    </tr>\n",
       "  </thead>\n",
       "  <tbody>\n",
       "    <tr>\n",
       "      <th>0</th>\n",
       "      <td>Led by Woody, Andy's toys live happily in his ...</td>\n",
       "      <td>1995-10-30</td>\n",
       "      <td>Toy Story</td>\n",
       "    </tr>\n",
       "    <tr>\n",
       "      <th>1</th>\n",
       "      <td>When siblings Judy and Peter discover an encha...</td>\n",
       "      <td>1995-12-15</td>\n",
       "      <td>Jumanji</td>\n",
       "    </tr>\n",
       "    <tr>\n",
       "      <th>2</th>\n",
       "      <td>A family wedding reignites the ancient feud be...</td>\n",
       "      <td>1995-12-22</td>\n",
       "      <td>Grumpier Old Men</td>\n",
       "    </tr>\n",
       "    <tr>\n",
       "      <th>3</th>\n",
       "      <td>Cheated on, mistreated and stepped on, the wom...</td>\n",
       "      <td>1995-12-22</td>\n",
       "      <td>Waiting to Exhale</td>\n",
       "    </tr>\n",
       "    <tr>\n",
       "      <th>4</th>\n",
       "      <td>Just when George Banks has recovered from his ...</td>\n",
       "      <td>1995-02-10</td>\n",
       "      <td>Father of the Bride Part II</td>\n",
       "    </tr>\n",
       "  </tbody>\n",
       "</table>\n",
       "</div>"
      ],
      "text/plain": [
       "                                            overview release_date  \\\n",
       "0  Led by Woody, Andy's toys live happily in his ...   1995-10-30   \n",
       "1  When siblings Judy and Peter discover an encha...   1995-12-15   \n",
       "2  A family wedding reignites the ancient feud be...   1995-12-22   \n",
       "3  Cheated on, mistreated and stepped on, the wom...   1995-12-22   \n",
       "4  Just when George Banks has recovered from his ...   1995-02-10   \n",
       "\n",
       "                         title  \n",
       "0                    Toy Story  \n",
       "1                      Jumanji  \n",
       "2             Grumpier Old Men  \n",
       "3            Waiting to Exhale  \n",
       "4  Father of the Bride Part II  "
      ]
     },
     "execution_count": 25,
     "metadata": {},
     "output_type": "execute_result"
    }
   ],
   "source": [
    "data.shape\n",
    "data.head()"
   ]
  },
  {
   "cell_type": "code",
   "execution_count": 26,
   "metadata": {},
   "outputs": [],
   "source": [
    "#saving the dataset\n",
    "data.to_csv(r'C:\\Users\\nesha\\Desktop\\movies.csv', index = False)"
   ]
  },
  {
   "cell_type": "markdown",
   "metadata": {},
   "source": [
    "## Text Cleaning and Preprocessing"
   ]
  },
  {
   "cell_type": "code",
   "execution_count": 27,
   "metadata": {},
   "outputs": [],
   "source": [
    "#removing numbers and punctuations\n",
    "\n",
    "#remove numbers\n",
    "alphanumeric = lambda x: re.sub('\\w*\\d\\w*', ' ', x)\n",
    "\n",
    "#remove punctuation\n",
    "punct = lambda x: re.sub('[%s]' % re.escape(string.punctuation), ' ', x)\n",
    "\n",
    "data['overview'] = data.overview.map(alphanumeric).map(punct)"
   ]
  },
  {
   "cell_type": "code",
   "execution_count": 28,
   "metadata": {},
   "outputs": [
    {
     "data": {
      "text/plain": [
       "'Led by Woody  Andy s toys live happily in his room until Andy s birthday brings Buzz Lightyear onto the scene  Afraid of losing his place in Andy s heart  Woody plots against Buzz  But when circumstances separate Buzz and Woody from their owner  the duo eventually learns to put aside their differences '"
      ]
     },
     "execution_count": 28,
     "metadata": {},
     "output_type": "execute_result"
    }
   ],
   "source": [
    "data.overview[0]"
   ]
  },
  {
   "cell_type": "code",
   "execution_count": 29,
   "metadata": {},
   "outputs": [
    {
     "name": "stderr",
     "output_type": "stream",
     "text": [
      "[nltk_data] Downloading package punkt to\n",
      "[nltk_data]     C:\\Users\\nesha\\AppData\\Roaming\\nltk_data...\n",
      "[nltk_data]   Package punkt is already up-to-date!\n"
     ]
    },
    {
     "data": {
      "text/plain": [
       "True"
      ]
     },
     "execution_count": 29,
     "metadata": {},
     "output_type": "execute_result"
    }
   ],
   "source": [
    "import nltk\n",
    "nltk.download('punkt')"
   ]
  },
  {
   "cell_type": "code",
   "execution_count": 30,
   "metadata": {},
   "outputs": [],
   "source": [
    "#Preprocessing: Tokenizing\n",
    "data['overview_token'] = data['overview'].apply(word_tokenize)"
   ]
  },
  {
   "cell_type": "code",
   "execution_count": 31,
   "metadata": {
    "scrolled": true
   },
   "outputs": [
    {
     "data": {
      "text/plain": [
       "['Led',\n",
       " 'by',\n",
       " 'Woody',\n",
       " 'Andy',\n",
       " 's',\n",
       " 'toys',\n",
       " 'live',\n",
       " 'happily',\n",
       " 'in',\n",
       " 'his',\n",
       " 'room',\n",
       " 'until',\n",
       " 'Andy',\n",
       " 's',\n",
       " 'birthday',\n",
       " 'brings',\n",
       " 'Buzz',\n",
       " 'Lightyear',\n",
       " 'onto',\n",
       " 'the',\n",
       " 'scene',\n",
       " 'Afraid',\n",
       " 'of',\n",
       " 'losing',\n",
       " 'his',\n",
       " 'place',\n",
       " 'in',\n",
       " 'Andy',\n",
       " 's',\n",
       " 'heart',\n",
       " 'Woody',\n",
       " 'plots',\n",
       " 'against',\n",
       " 'Buzz',\n",
       " 'But',\n",
       " 'when',\n",
       " 'circumstances',\n",
       " 'separate',\n",
       " 'Buzz',\n",
       " 'and',\n",
       " 'Woody',\n",
       " 'from',\n",
       " 'their',\n",
       " 'owner',\n",
       " 'the',\n",
       " 'duo',\n",
       " 'eventually',\n",
       " 'learns',\n",
       " 'to',\n",
       " 'put',\n",
       " 'aside',\n",
       " 'their',\n",
       " 'differences']"
      ]
     },
     "execution_count": 31,
     "metadata": {},
     "output_type": "execute_result"
    }
   ],
   "source": [
    "#let's look at a sample\n",
    "data.overview_token[0]"
   ]
  },
  {
   "cell_type": "code",
   "execution_count": 32,
   "metadata": {
    "scrolled": true
   },
   "outputs": [
    {
     "name": "stderr",
     "output_type": "stream",
     "text": [
      "[nltk_data] Downloading package averaged_perceptron_tagger to\n",
      "[nltk_data]     C:\\Users\\nesha\\AppData\\Roaming\\nltk_data...\n",
      "[nltk_data]   Package averaged_perceptron_tagger is already up-to-\n",
      "[nltk_data]       date!\n"
     ]
    },
    {
     "data": {
      "text/plain": [
       "[('Led', 'VBN'),\n",
       " ('by', 'IN'),\n",
       " ('Woody', 'NNP'),\n",
       " ('Andy', 'NNP'),\n",
       " ('s', 'VBD'),\n",
       " ('toys', 'NNS'),\n",
       " ('live', 'VBP'),\n",
       " ('happily', 'RB'),\n",
       " ('in', 'IN'),\n",
       " ('his', 'PRP$'),\n",
       " ('room', 'NN'),\n",
       " ('until', 'IN'),\n",
       " ('Andy', 'NNP'),\n",
       " ('s', 'VBD'),\n",
       " ('birthday', 'JJ'),\n",
       " ('brings', 'NNS'),\n",
       " ('Buzz', 'NNP'),\n",
       " ('Lightyear', 'NNP'),\n",
       " ('onto', 'IN'),\n",
       " ('the', 'DT'),\n",
       " ('scene', 'NN'),\n",
       " ('Afraid', 'NNP'),\n",
       " ('of', 'IN'),\n",
       " ('losing', 'VBG'),\n",
       " ('his', 'PRP$'),\n",
       " ('place', 'NN'),\n",
       " ('in', 'IN'),\n",
       " ('Andy', 'NNP'),\n",
       " ('s', 'JJ'),\n",
       " ('heart', 'NN'),\n",
       " ('Woody', 'NNP'),\n",
       " ('plots', 'NNS'),\n",
       " ('against', 'IN'),\n",
       " ('Buzz', 'NNP'),\n",
       " ('But', 'CC'),\n",
       " ('when', 'WRB'),\n",
       " ('circumstances', 'NNS'),\n",
       " ('separate', 'VBP'),\n",
       " ('Buzz', 'NNP'),\n",
       " ('and', 'CC'),\n",
       " ('Woody', 'NNP'),\n",
       " ('from', 'IN'),\n",
       " ('their', 'PRP$'),\n",
       " ('owner', 'NN'),\n",
       " ('the', 'DT'),\n",
       " ('duo', 'NN'),\n",
       " ('eventually', 'RB'),\n",
       " ('learns', 'VBZ'),\n",
       " ('to', 'TO'),\n",
       " ('put', 'VB'),\n",
       " ('aside', 'RP'),\n",
       " ('their', 'PRP$'),\n",
       " ('differences', 'NNS')]"
      ]
     },
     "execution_count": 32,
     "metadata": {},
     "output_type": "execute_result"
    }
   ],
   "source": [
    "nltk.download('averaged_perceptron_tagger')\n",
    "\n",
    "#Preprocessing: Parts of Speech Tagging\n",
    "#labeling each word as noun,verbs,adjective, etc.\n",
    "data['overview_tag'] = pos_tag_sents(data['overview_token'].tolist()) \n",
    "\n",
    "#let's look at a sample\n",
    "data.overview_tag[0]"
   ]
  },
  {
   "cell_type": "code",
   "execution_count": 33,
   "metadata": {},
   "outputs": [
    {
     "name": "stdout",
     "output_type": "stream",
     "text": [
      "$: dollar\n",
      "    $ -$ --$ A$ C$ HK$ M$ NZ$ S$ U.S.$ US$\n",
      "'': closing quotation mark\n",
      "    ' ''\n",
      "(: opening parenthesis\n",
      "    ( [ {\n",
      "): closing parenthesis\n",
      "    ) ] }\n",
      ",: comma\n",
      "    ,\n",
      "--: dash\n",
      "    --\n",
      ".: sentence terminator\n",
      "    . ! ?\n",
      ":: colon or ellipsis\n",
      "    : ; ...\n",
      "CC: conjunction, coordinating\n",
      "    & 'n and both but either et for less minus neither nor or plus so\n",
      "    therefore times v. versus vs. whether yet\n",
      "CD: numeral, cardinal\n",
      "    mid-1890 nine-thirty forty-two one-tenth ten million 0.5 one forty-\n",
      "    seven 1987 twenty '79 zero two 78-degrees eighty-four IX '60s .025\n",
      "    fifteen 271,124 dozen quintillion DM2,000 ...\n",
      "DT: determiner\n",
      "    all an another any both del each either every half la many much nary\n",
      "    neither no some such that the them these this those\n",
      "EX: existential there\n",
      "    there\n",
      "FW: foreign word\n",
      "    gemeinschaft hund ich jeux habeas Haementeria Herr K'ang-si vous\n",
      "    lutihaw alai je jour objets salutaris fille quibusdam pas trop Monte\n",
      "    terram fiche oui corporis ...\n",
      "IN: preposition or conjunction, subordinating\n",
      "    astride among uppon whether out inside pro despite on by throughout\n",
      "    below within for towards near behind atop around if like until below\n",
      "    next into if beside ...\n",
      "JJ: adjective or numeral, ordinal\n",
      "    third ill-mannered pre-war regrettable oiled calamitous first separable\n",
      "    ectoplasmic battery-powered participatory fourth still-to-be-named\n",
      "    multilingual multi-disciplinary ...\n",
      "JJR: adjective, comparative\n",
      "    bleaker braver breezier briefer brighter brisker broader bumper busier\n",
      "    calmer cheaper choosier cleaner clearer closer colder commoner costlier\n",
      "    cozier creamier crunchier cuter ...\n",
      "JJS: adjective, superlative\n",
      "    calmest cheapest choicest classiest cleanest clearest closest commonest\n",
      "    corniest costliest crassest creepiest crudest cutest darkest deadliest\n",
      "    dearest deepest densest dinkiest ...\n",
      "LS: list item marker\n",
      "    A A. B B. C C. D E F First G H I J K One SP-44001 SP-44002 SP-44005\n",
      "    SP-44007 Second Third Three Two * a b c d first five four one six three\n",
      "    two\n",
      "MD: modal auxiliary\n",
      "    can cannot could couldn't dare may might must need ought shall should\n",
      "    shouldn't will would\n",
      "NN: noun, common, singular or mass\n",
      "    common-carrier cabbage knuckle-duster Casino afghan shed thermostat\n",
      "    investment slide humour falloff slick wind hyena override subhumanity\n",
      "    machinist ...\n",
      "NNP: noun, proper, singular\n",
      "    Motown Venneboerger Czestochwa Ranzer Conchita Trumplane Christos\n",
      "    Oceanside Escobar Kreisler Sawyer Cougar Yvette Ervin ODI Darryl CTCA\n",
      "    Shannon A.K.C. Meltex Liverpool ...\n",
      "NNPS: noun, proper, plural\n",
      "    Americans Americas Amharas Amityvilles Amusements Anarcho-Syndicalists\n",
      "    Andalusians Andes Andruses Angels Animals Anthony Antilles Antiques\n",
      "    Apache Apaches Apocrypha ...\n",
      "NNS: noun, common, plural\n",
      "    undergraduates scotches bric-a-brac products bodyguards facets coasts\n",
      "    divestitures storehouses designs clubs fragrances averages\n",
      "    subjectivists apprehensions muses factory-jobs ...\n",
      "PDT: pre-determiner\n",
      "    all both half many quite such sure this\n",
      "POS: genitive marker\n",
      "    ' 's\n",
      "PRP: pronoun, personal\n",
      "    hers herself him himself hisself it itself me myself one oneself ours\n",
      "    ourselves ownself self she thee theirs them themselves they thou thy us\n",
      "PRP$: pronoun, possessive\n",
      "    her his mine my our ours their thy your\n",
      "RB: adverb\n",
      "    occasionally unabatingly maddeningly adventurously professedly\n",
      "    stirringly prominently technologically magisterially predominately\n",
      "    swiftly fiscally pitilessly ...\n",
      "RBR: adverb, comparative\n",
      "    further gloomier grander graver greater grimmer harder harsher\n",
      "    healthier heavier higher however larger later leaner lengthier less-\n",
      "    perfectly lesser lonelier longer louder lower more ...\n",
      "RBS: adverb, superlative\n",
      "    best biggest bluntest earliest farthest first furthest hardest\n",
      "    heartiest highest largest least less most nearest second tightest worst\n",
      "RP: particle\n",
      "    aboard about across along apart around aside at away back before behind\n",
      "    by crop down ever fast for forth from go high i.e. in into just later\n",
      "    low more off on open out over per pie raising start teeth that through\n",
      "    under unto up up-pp upon whole with you\n",
      "SYM: symbol\n",
      "    % & ' '' ''. ) ). * + ,. < = > @ A[fj] U.S U.S.S.R * ** ***\n",
      "TO: \"to\" as preposition or infinitive marker\n",
      "    to\n",
      "UH: interjection\n",
      "    Goodbye Goody Gosh Wow Jeepers Jee-sus Hubba Hey Kee-reist Oops amen\n",
      "    huh howdy uh dammit whammo shucks heck anyways whodunnit honey golly\n",
      "    man baby diddle hush sonuvabitch ...\n",
      "VB: verb, base form\n",
      "    ask assemble assess assign assume atone attention avoid bake balkanize\n",
      "    bank begin behold believe bend benefit bevel beware bless boil bomb\n",
      "    boost brace break bring broil brush build ...\n",
      "VBD: verb, past tense\n",
      "    dipped pleaded swiped regummed soaked tidied convened halted registered\n",
      "    cushioned exacted snubbed strode aimed adopted belied figgered\n",
      "    speculated wore appreciated contemplated ...\n",
      "VBG: verb, present participle or gerund\n",
      "    telegraphing stirring focusing angering judging stalling lactating\n",
      "    hankerin' alleging veering capping approaching traveling besieging\n",
      "    encrypting interrupting erasing wincing ...\n",
      "VBN: verb, past participle\n",
      "    multihulled dilapidated aerosolized chaired languished panelized used\n",
      "    experimented flourished imitated reunifed factored condensed sheared\n",
      "    unsettled primed dubbed desired ...\n",
      "VBP: verb, present tense, not 3rd person singular\n",
      "    predominate wrap resort sue twist spill cure lengthen brush terminate\n",
      "    appear tend stray glisten obtain comprise detest tease attract\n",
      "    emphasize mold postpone sever return wag ...\n",
      "VBZ: verb, present tense, 3rd person singular\n",
      "    bases reconstructs marks mixes displeases seals carps weaves snatches\n",
      "    slumps stretches authorizes smolders pictures emerges stockpiles\n",
      "    seduces fizzes uses bolsters slaps speaks pleads ...\n",
      "WDT: WH-determiner\n",
      "    that what whatever which whichever\n",
      "WP: WH-pronoun\n",
      "    that what whatever whatsoever which who whom whosoever\n",
      "WP$: WH-pronoun, possessive\n",
      "    whose\n",
      "WRB: Wh-adverb\n",
      "    how however whence whenever where whereby whereever wherein whereof why\n",
      "``: opening quotation mark\n",
      "    ` ``\n"
     ]
    },
    {
     "name": "stderr",
     "output_type": "stream",
     "text": [
      "[nltk_data] Downloading package tagsets to\n",
      "[nltk_data]     C:\\Users\\nesha\\AppData\\Roaming\\nltk_data...\n",
      "[nltk_data]   Package tagsets is already up-to-date!\n"
     ]
    }
   ],
   "source": [
    " nltk.download('tagsets')\n",
    "nltk.help.upenn_tagset()"
   ]
  },
  {
   "cell_type": "code",
   "execution_count": 34,
   "metadata": {},
   "outputs": [],
   "source": [
    "#creating a function to remove proper nouns\n",
    "def remove_pn(tagged_text):\n",
    "    return [(word, tag) for word,tag in tagged_text if tag != 'NNP' and tag != 'NNPS' and tag != 'IN' and tag != 'TO' \n",
    "           and tag != 'DT' and tag != 'CC' and tag != 'VBD' and tag != 'PRP$' and tag != 'VBZ']\n",
    "\n",
    "#applying the function\n",
    "data['overview_tagged_pn_removed'] = data['overview_tag'].apply(remove_pn)"
   ]
  },
  {
   "cell_type": "code",
   "execution_count": 35,
   "metadata": {},
   "outputs": [],
   "source": [
    "#Preprocessing: Lemmatizing\n",
    "\n",
    "#creating a function to use pos_tags to lemmatize overviews using WordNetLemmatizer\n",
    "def lemmatize_pos(tagged_text):\n",
    "    list_lemm = []\n",
    "    wnl = WordNetLemmatizer()\n",
    "    for word, tag in (tagged_text):\n",
    "        if tag.startswith(\"NN\"): #noun, common, singular or mass\n",
    "            list_lemm.append(wnl.lemmatize(word, wordnet.NOUN))\n",
    "        elif tag.startswith('VB'): #verb, base form\n",
    "            list_lemm.append(wnl.lemmatize(word, wordnet.VERB))\n",
    "        elif tag.startswith('JJ'): #adjective or numeral, ordinal\n",
    "            list_lemm.append(wnl.lemmatize(word, wordnet.ADJ))\n",
    "        else:\n",
    "            list_lemm.append(word)\n",
    "    return list_lemm"
   ]
  },
  {
   "cell_type": "code",
   "execution_count": 36,
   "metadata": {},
   "outputs": [
    {
     "name": "stderr",
     "output_type": "stream",
     "text": [
      "[nltk_data] Downloading package wordnet to\n",
      "[nltk_data]     C:\\Users\\nesha\\AppData\\Roaming\\nltk_data...\n",
      "[nltk_data]   Package wordnet is already up-to-date!\n"
     ]
    }
   ],
   "source": [
    "nltk.download('wordnet')\n",
    "\n",
    "#applying thefunction\n",
    "data['overview_lemm'] = data['overview_tagged_pn_removed'].apply(lemmatize_pos)"
   ]
  },
  {
   "cell_type": "code",
   "execution_count": 37,
   "metadata": {},
   "outputs": [
    {
     "data": {
      "text/plain": [
       "['Led',\n",
       " 'toy',\n",
       " 'live',\n",
       " 'happily',\n",
       " 'room',\n",
       " 'birthday',\n",
       " 'brings',\n",
       " 'scene',\n",
       " 'lose',\n",
       " 'place',\n",
       " 's',\n",
       " 'heart',\n",
       " 'plot',\n",
       " 'when',\n",
       " 'circumstance',\n",
       " 'separate',\n",
       " 'owner',\n",
       " 'duo',\n",
       " 'eventually',\n",
       " 'put',\n",
       " 'aside',\n",
       " 'difference']"
      ]
     },
     "execution_count": 37,
     "metadata": {},
     "output_type": "execute_result"
    }
   ],
   "source": [
    "#looking at a sample\n",
    "data['overview_lemm'][0]"
   ]
  },
  {
   "cell_type": "markdown",
   "metadata": {},
   "source": [
    "Seems that we've successfully removed the proper nouns and the part of speech tags!"
   ]
  },
  {
   "cell_type": "code",
   "execution_count": 38,
   "metadata": {},
   "outputs": [
    {
     "data": {
      "text/html": [
       "<div>\n",
       "<style scoped>\n",
       "    .dataframe tbody tr th:only-of-type {\n",
       "        vertical-align: middle;\n",
       "    }\n",
       "\n",
       "    .dataframe tbody tr th {\n",
       "        vertical-align: top;\n",
       "    }\n",
       "\n",
       "    .dataframe thead th {\n",
       "        text-align: right;\n",
       "    }\n",
       "</style>\n",
       "<table border=\"1\" class=\"dataframe\">\n",
       "  <thead>\n",
       "    <tr style=\"text-align: right;\">\n",
       "      <th></th>\n",
       "      <th>overview</th>\n",
       "      <th>release_date</th>\n",
       "      <th>title</th>\n",
       "      <th>overview_token</th>\n",
       "      <th>overview_tag</th>\n",
       "      <th>overview_tagged_pn_removed</th>\n",
       "      <th>overview_lemm</th>\n",
       "    </tr>\n",
       "  </thead>\n",
       "  <tbody>\n",
       "    <tr>\n",
       "      <th>0</th>\n",
       "      <td>Led by Woody  Andy s toys live happily in his ...</td>\n",
       "      <td>1995-10-30</td>\n",
       "      <td>Toy Story</td>\n",
       "      <td>[Led, by, Woody, Andy, s, toys, live, happily,...</td>\n",
       "      <td>[(Led, VBN), (by, IN), (Woody, NNP), (Andy, NN...</td>\n",
       "      <td>[(Led, VBN), (toys, NNS), (live, VBP), (happil...</td>\n",
       "      <td>[Led, toy, live, happily, room, birthday, brin...</td>\n",
       "    </tr>\n",
       "    <tr>\n",
       "      <th>1</th>\n",
       "      <td>When siblings Judy and Peter discover an encha...</td>\n",
       "      <td>1995-12-15</td>\n",
       "      <td>Jumanji</td>\n",
       "      <td>[When, siblings, Judy, and, Peter, discover, a...</td>\n",
       "      <td>[(When, WRB), (siblings, NNS), (Judy, NNP), (a...</td>\n",
       "      <td>[(When, WRB), (siblings, NNS), (discover, VBP)...</td>\n",
       "      <td>[When, sibling, discover, enchant, board, game...</td>\n",
       "    </tr>\n",
       "    <tr>\n",
       "      <th>2</th>\n",
       "      <td>A family wedding reignites the ancient feud be...</td>\n",
       "      <td>1995-12-22</td>\n",
       "      <td>Grumpier Old Men</td>\n",
       "      <td>[A, family, wedding, reignites, the, ancient, ...</td>\n",
       "      <td>[(A, DT), (family, NN), (wedding, NN), (reigni...</td>\n",
       "      <td>[(family, NN), (wedding, NN), (ancient, JJ), (...</td>\n",
       "      <td>[family, wedding, ancient, feud, next, door, n...</td>\n",
       "    </tr>\n",
       "    <tr>\n",
       "      <th>3</th>\n",
       "      <td>Cheated on  mistreated and stepped on  the wom...</td>\n",
       "      <td>1995-12-22</td>\n",
       "      <td>Waiting to Exhale</td>\n",
       "      <td>[Cheated, on, mistreated, and, stepped, on, th...</td>\n",
       "      <td>[(Cheated, VBN), (on, IN), (mistreated, VBN), ...</td>\n",
       "      <td>[(Cheated, VBN), (mistreated, VBN), (stepped, ...</td>\n",
       "      <td>[Cheated, mistreat, step, woman, be, hold, bre...</td>\n",
       "    </tr>\n",
       "    <tr>\n",
       "      <th>4</th>\n",
       "      <td>Just when George Banks has recovered from his ...</td>\n",
       "      <td>1995-02-10</td>\n",
       "      <td>Father of the Bride Part II</td>\n",
       "      <td>[Just, when, George, Banks, has, recovered, fr...</td>\n",
       "      <td>[(Just, RB), (when, WRB), (George, NNP), (Bank...</td>\n",
       "      <td>[(Just, RB), (when, WRB), (recovered, VBN), (d...</td>\n",
       "      <td>[Just, when, recover, daughter, s, wedding, he...</td>\n",
       "    </tr>\n",
       "  </tbody>\n",
       "</table>\n",
       "</div>"
      ],
      "text/plain": [
       "                                            overview release_date  \\\n",
       "0  Led by Woody  Andy s toys live happily in his ...   1995-10-30   \n",
       "1  When siblings Judy and Peter discover an encha...   1995-12-15   \n",
       "2  A family wedding reignites the ancient feud be...   1995-12-22   \n",
       "3  Cheated on  mistreated and stepped on  the wom...   1995-12-22   \n",
       "4  Just when George Banks has recovered from his ...   1995-02-10   \n",
       "\n",
       "                         title  \\\n",
       "0                    Toy Story   \n",
       "1                      Jumanji   \n",
       "2             Grumpier Old Men   \n",
       "3            Waiting to Exhale   \n",
       "4  Father of the Bride Part II   \n",
       "\n",
       "                                      overview_token  \\\n",
       "0  [Led, by, Woody, Andy, s, toys, live, happily,...   \n",
       "1  [When, siblings, Judy, and, Peter, discover, a...   \n",
       "2  [A, family, wedding, reignites, the, ancient, ...   \n",
       "3  [Cheated, on, mistreated, and, stepped, on, th...   \n",
       "4  [Just, when, George, Banks, has, recovered, fr...   \n",
       "\n",
       "                                        overview_tag  \\\n",
       "0  [(Led, VBN), (by, IN), (Woody, NNP), (Andy, NN...   \n",
       "1  [(When, WRB), (siblings, NNS), (Judy, NNP), (a...   \n",
       "2  [(A, DT), (family, NN), (wedding, NN), (reigni...   \n",
       "3  [(Cheated, VBN), (on, IN), (mistreated, VBN), ...   \n",
       "4  [(Just, RB), (when, WRB), (George, NNP), (Bank...   \n",
       "\n",
       "                          overview_tagged_pn_removed  \\\n",
       "0  [(Led, VBN), (toys, NNS), (live, VBP), (happil...   \n",
       "1  [(When, WRB), (siblings, NNS), (discover, VBP)...   \n",
       "2  [(family, NN), (wedding, NN), (ancient, JJ), (...   \n",
       "3  [(Cheated, VBN), (mistreated, VBN), (stepped, ...   \n",
       "4  [(Just, RB), (when, WRB), (recovered, VBN), (d...   \n",
       "\n",
       "                                       overview_lemm  \n",
       "0  [Led, toy, live, happily, room, birthday, brin...  \n",
       "1  [When, sibling, discover, enchant, board, game...  \n",
       "2  [family, wedding, ancient, feud, next, door, n...  \n",
       "3  [Cheated, mistreat, step, woman, be, hold, bre...  \n",
       "4  [Just, when, recover, daughter, s, wedding, he...  "
      ]
     },
     "execution_count": 38,
     "metadata": {},
     "output_type": "execute_result"
    }
   ],
   "source": [
    "data.head()"
   ]
  },
  {
   "cell_type": "code",
   "execution_count": 39,
   "metadata": {},
   "outputs": [],
   "source": [
    "#droppinh columns we wont need in the upcoming steps\n",
    "data.drop(['overview','overview_token','overview_tag', 'overview_tagged_pn_removed'], axis=1, inplace=True)"
   ]
  },
  {
   "cell_type": "code",
   "execution_count": 40,
   "metadata": {},
   "outputs": [
    {
     "data": {
      "text/html": [
       "<div>\n",
       "<style scoped>\n",
       "    .dataframe tbody tr th:only-of-type {\n",
       "        vertical-align: middle;\n",
       "    }\n",
       "\n",
       "    .dataframe tbody tr th {\n",
       "        vertical-align: top;\n",
       "    }\n",
       "\n",
       "    .dataframe thead th {\n",
       "        text-align: right;\n",
       "    }\n",
       "</style>\n",
       "<table border=\"1\" class=\"dataframe\">\n",
       "  <thead>\n",
       "    <tr style=\"text-align: right;\">\n",
       "      <th></th>\n",
       "      <th>release_date</th>\n",
       "      <th>title</th>\n",
       "      <th>overview_lemm</th>\n",
       "    </tr>\n",
       "  </thead>\n",
       "  <tbody>\n",
       "    <tr>\n",
       "      <th>0</th>\n",
       "      <td>1995-10-30</td>\n",
       "      <td>Toy Story</td>\n",
       "      <td>[Led, toy, live, happily, room, birthday, brin...</td>\n",
       "    </tr>\n",
       "    <tr>\n",
       "      <th>1</th>\n",
       "      <td>1995-12-15</td>\n",
       "      <td>Jumanji</td>\n",
       "      <td>[When, sibling, discover, enchant, board, game...</td>\n",
       "    </tr>\n",
       "    <tr>\n",
       "      <th>2</th>\n",
       "      <td>1995-12-22</td>\n",
       "      <td>Grumpier Old Men</td>\n",
       "      <td>[family, wedding, ancient, feud, next, door, n...</td>\n",
       "    </tr>\n",
       "    <tr>\n",
       "      <th>3</th>\n",
       "      <td>1995-12-22</td>\n",
       "      <td>Waiting to Exhale</td>\n",
       "      <td>[Cheated, mistreat, step, woman, be, hold, bre...</td>\n",
       "    </tr>\n",
       "    <tr>\n",
       "      <th>4</th>\n",
       "      <td>1995-02-10</td>\n",
       "      <td>Father of the Bride Part II</td>\n",
       "      <td>[Just, when, recover, daughter, s, wedding, he...</td>\n",
       "    </tr>\n",
       "  </tbody>\n",
       "</table>\n",
       "</div>"
      ],
      "text/plain": [
       "  release_date                        title  \\\n",
       "0   1995-10-30                    Toy Story   \n",
       "1   1995-12-15                      Jumanji   \n",
       "2   1995-12-22             Grumpier Old Men   \n",
       "3   1995-12-22            Waiting to Exhale   \n",
       "4   1995-02-10  Father of the Bride Part II   \n",
       "\n",
       "                                       overview_lemm  \n",
       "0  [Led, toy, live, happily, room, birthday, brin...  \n",
       "1  [When, sibling, discover, enchant, board, game...  \n",
       "2  [family, wedding, ancient, feud, next, door, n...  \n",
       "3  [Cheated, mistreat, step, woman, be, hold, bre...  \n",
       "4  [Just, when, recover, daughter, s, wedding, he...  "
      ]
     },
     "execution_count": 40,
     "metadata": {},
     "output_type": "execute_result"
    }
   ],
   "source": [
    "data.head()"
   ]
  },
  {
   "cell_type": "code",
   "execution_count": 41,
   "metadata": {},
   "outputs": [
    {
     "data": {
      "text/plain": [
       "(38145, 3)"
      ]
     },
     "execution_count": 41,
     "metadata": {},
     "output_type": "execute_result"
    }
   ],
   "source": [
    "data.shape"
   ]
  },
  {
   "cell_type": "code",
   "execution_count": 43,
   "metadata": {},
   "outputs": [],
   "source": [
    "#saving the preprocessed data\n",
    "data.to_csv(r'C:\\Users\\nesha\\Desktop\\movies_preprocessed1.csv', index = False)"
   ]
  },
  {
   "cell_type": "code",
   "execution_count": null,
   "metadata": {},
   "outputs": [],
   "source": []
  }
 ],
 "metadata": {
  "kernelspec": {
   "display_name": "Python 3",
   "language": "python",
   "name": "python3"
  },
  "language_info": {
   "codemirror_mode": {
    "name": "ipython",
    "version": 3
   },
   "file_extension": ".py",
   "mimetype": "text/x-python",
   "name": "python",
   "nbconvert_exporter": "python",
   "pygments_lexer": "ipython3",
   "version": "3.8.5"
  }
 },
 "nbformat": 4,
 "nbformat_minor": 4
}
