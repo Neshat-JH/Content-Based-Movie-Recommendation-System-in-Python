{
 "cells": [
  {
   "cell_type": "code",
   "execution_count": 1,
   "metadata": {},
   "outputs": [],
   "source": [
    "import numpy as np \n",
    "import pandas as pd \n",
    "\n",
    "from sklearn import preprocessing\n",
    "from sklearn.feature_extraction.text import TfidfVectorizer\n",
    "from sklearn.feature_extraction import text\n",
    "from sklearn.decomposition import NMF\n",
    "from sklearn.metrics.pairwise import cosine_similarity"
   ]
  },
  {
   "cell_type": "code",
   "execution_count": 2,
   "metadata": {},
   "outputs": [
    {
     "data": {
      "text/html": [
       "<div>\n",
       "<style scoped>\n",
       "    .dataframe tbody tr th:only-of-type {\n",
       "        vertical-align: middle;\n",
       "    }\n",
       "\n",
       "    .dataframe tbody tr th {\n",
       "        vertical-align: top;\n",
       "    }\n",
       "\n",
       "    .dataframe thead th {\n",
       "        text-align: right;\n",
       "    }\n",
       "</style>\n",
       "<table border=\"1\" class=\"dataframe\">\n",
       "  <thead>\n",
       "    <tr style=\"text-align: right;\">\n",
       "      <th></th>\n",
       "      <th>release_date</th>\n",
       "      <th>title</th>\n",
       "      <th>overview_lemm</th>\n",
       "    </tr>\n",
       "  </thead>\n",
       "  <tbody>\n",
       "    <tr>\n",
       "      <th>0</th>\n",
       "      <td>1995-10-30</td>\n",
       "      <td>Toy Story</td>\n",
       "      <td>['Led', 'toy', 'live', 'happily', 'room', 'bir...</td>\n",
       "    </tr>\n",
       "    <tr>\n",
       "      <th>1</th>\n",
       "      <td>1995-12-15</td>\n",
       "      <td>Jumanji</td>\n",
       "      <td>['When', 'sibling', 'discover', 'enchant', 'bo...</td>\n",
       "    </tr>\n",
       "    <tr>\n",
       "      <th>2</th>\n",
       "      <td>1995-12-22</td>\n",
       "      <td>Grumpier Old Men</td>\n",
       "      <td>['family', 'wedding', 'ancient', 'feud', 'next...</td>\n",
       "    </tr>\n",
       "    <tr>\n",
       "      <th>3</th>\n",
       "      <td>1995-12-22</td>\n",
       "      <td>Waiting to Exhale</td>\n",
       "      <td>['Cheated', 'mistreat', 'step', 'woman', 'be',...</td>\n",
       "    </tr>\n",
       "    <tr>\n",
       "      <th>4</th>\n",
       "      <td>1995-02-10</td>\n",
       "      <td>Father of the Bride Part II</td>\n",
       "      <td>['Just', 'when', 'recover', 'daughter', 's', '...</td>\n",
       "    </tr>\n",
       "  </tbody>\n",
       "</table>\n",
       "</div>"
      ],
      "text/plain": [
       "  release_date                        title  \\\n",
       "0   1995-10-30                    Toy Story   \n",
       "1   1995-12-15                      Jumanji   \n",
       "2   1995-12-22             Grumpier Old Men   \n",
       "3   1995-12-22            Waiting to Exhale   \n",
       "4   1995-02-10  Father of the Bride Part II   \n",
       "\n",
       "                                       overview_lemm  \n",
       "0  ['Led', 'toy', 'live', 'happily', 'room', 'bir...  \n",
       "1  ['When', 'sibling', 'discover', 'enchant', 'bo...  \n",
       "2  ['family', 'wedding', 'ancient', 'feud', 'next...  \n",
       "3  ['Cheated', 'mistreat', 'step', 'woman', 'be',...  \n",
       "4  ['Just', 'when', 'recover', 'daughter', 's', '...  "
      ]
     },
     "execution_count": 2,
     "metadata": {},
     "output_type": "execute_result"
    }
   ],
   "source": [
    "#reading the csv file\n",
    "path = r'C:\\Users\\nesha\\Desktop\\movies_preprocessed1.csv' # data path\n",
    "data = pd.read_csv(path)\n",
    "data.head()"
   ]
  },
  {
   "cell_type": "code",
   "execution_count": 3,
   "metadata": {},
   "outputs": [],
   "source": [
    "#making movie title  the index\n",
    "data.set_index('title', inplace=True)"
   ]
  },
  {
   "cell_type": "code",
   "execution_count": 4,
   "metadata": {},
   "outputs": [],
   "source": [
    "#repeating the finalized topic modeling \n",
    "my_stop_words = text.ENGLISH_STOP_WORDS.union(['this', 'when', 'each','film', 'by', 'as', 'live', 'make',\n",
    "                                               'ago','later','earlier', 'spend','tell','say','base','based',\n",
    "                                              'know', 'want', 'try','just', 'begin', 'special',\n",
    "                                              'soon','look','come', 'decide', 's','kill', 'turn',])\n",
    "vectorizer = TfidfVectorizer(stop_words=my_stop_words)\n",
    "doc_word = vectorizer.fit_transform(data['overview_lemm'])\n",
    "\n",
    "#creating topic modeler\n",
    "nmf_model = NMF(20, random_state=10, max_iter=1000)\n",
    "doc_topic = nmf_model.fit_transform(doc_word)\n",
    "\n",
    "#creating a dataframe showing probabilities for each movie in each topic\n",
    "doc_topic_nmf = pd.DataFrame(doc_topic.round(5), index = data.index)\n",
    "\n",
    "#finding similarity between each movie based on the degree to which they belong to each topic\n",
    "cosine_sim = cosine_similarity(doc_topic_nmf, doc_topic_nmf)"
   ]
  },
  {
   "cell_type": "code",
   "execution_count": 5,
   "metadata": {},
   "outputs": [],
   "source": [
    "#recommendation system function\n",
    "\n",
    "#creating a series for the movie titles \n",
    "indices = pd.Series(data.index)\n",
    "indices[:5]\n",
    "\n",
    "#defining the function that takes in movie title as input and returns the top 5 recommended movies\n",
    "def recommendations(title, cosine_sim = cosine_sim):\n",
    "    \n",
    "    # gettin the index of the movie that matches the title\n",
    "    idx = indices[indices == title].index[0]\n",
    "\n",
    "    # creating a Series with the similarity scores in descending order\n",
    "    similar_idx = list((pd.Series(cosine_sim[idx]).sort_values(ascending = False)).index)\n",
    "    \n",
    "     # initializing the empty list of recommended movies\n",
    "    recommended_movies = []\n",
    "\n",
    "    # populating the list with the titles of the best 10 matching movies\n",
    "    for i in similar_idx[1:6]:\n",
    "            recommended_movies.append(list(data.index)[i])\n",
    "            \n",
    "    return recommended_movies"
   ]
  },
  {
   "cell_type": "code",
   "execution_count": 6,
   "metadata": {},
   "outputs": [
    {
     "data": {
      "text/plain": [
       "['The Foreigner',\n",
       " 'The Interrupters',\n",
       " 'Small Town Gay Bar',\n",
       " 'Ivanhoe',\n",
       " 'The Rosa Parks Story']"
      ]
     },
     "execution_count": 6,
     "metadata": {},
     "output_type": "execute_result"
    }
   ],
   "source": [
    "recommendations('Bonnie and Clyde')"
   ]
  },
  {
   "cell_type": "code",
   "execution_count": 7,
   "metadata": {},
   "outputs": [
    {
     "data": {
      "text/plain": [
       "['Mulberry Street', 'San Pietro', 'The Speak', \"Rustlers' Rhapsody\", 'Kill!']"
      ]
     },
     "execution_count": 7,
     "metadata": {},
     "output_type": "execute_result"
    }
   ],
   "source": [
    "recommendations('Robin Hood')"
   ]
  },
  {
   "cell_type": "code",
   "execution_count": 8,
   "metadata": {},
   "outputs": [
    {
     "data": {
      "text/plain": [
       "['The Fountain',\n",
       " 'Leila',\n",
       " 'Last Year at Marienbad',\n",
       " 'The Wildest Dream',\n",
       " 'I Was a Communist for the FBI']"
      ]
     },
     "execution_count": 8,
     "metadata": {},
     "output_type": "execute_result"
    }
   ],
   "source": [
    "recommendations('The Notebook')"
   ]
  },
  {
   "cell_type": "code",
   "execution_count": 9,
   "metadata": {},
   "outputs": [
    {
     "data": {
      "text/plain": [
       "['Spies', 'Guns', 'House of Flying Daggers', 'Shrek', 'Casablanca Express']"
      ]
     },
     "execution_count": 9,
     "metadata": {},
     "output_type": "execute_result"
    }
   ],
   "source": [
    "recommendations('Zorro')"
   ]
  },
  {
   "cell_type": "code",
   "execution_count": null,
   "metadata": {},
   "outputs": [],
   "source": []
  }
 ],
 "metadata": {
  "kernelspec": {
   "display_name": "Python 3",
   "language": "python",
   "name": "python3"
  },
  "language_info": {
   "codemirror_mode": {
    "name": "ipython",
    "version": 3
   },
   "file_extension": ".py",
   "mimetype": "text/x-python",
   "name": "python",
   "nbconvert_exporter": "python",
   "pygments_lexer": "ipython3",
   "version": "3.8.5"
  }
 },
 "nbformat": 4,
 "nbformat_minor": 4
}
